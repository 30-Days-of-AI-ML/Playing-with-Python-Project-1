{
 "cells": [
  {
   "cell_type": "code",
   "execution_count": 1,
   "metadata": {},
   "outputs": [
    {
     "name": "stdout",
     "output_type": "stream",
     "text": [
      "37.0 degree celsius is equal to 98.6 degree fahrenheit\n"
     ]
    }
   ],
   "source": [
    "#converting calsius to fahrenheit\n",
    "celsius = 37\n",
    "#calculate fahrenheit\n",
    "fahrenheit = (celsius*1.8) + 32\n",
    "print(\"%0.1f degree celsius is equal to %0.1f degree fahrenheit\" %(celsius,fahrenheit))"
   ]
  },
  {
   "cell_type": "code",
   "execution_count": 2,
   "metadata": {},
   "outputs": [
    {
     "name": "stdout",
     "output_type": "stream",
     "text": [
      "50.0 degree fahrenheit is equal to 10.0 degree celsius\n"
     ]
    }
   ],
   "source": [
    "#converting fahrenheit to celsius\n",
    "fahrenheit = 50\n",
    "#calculating celsius\n",
    "celsius = (fahrenheit - 32) / 1.8\n",
    "print(\"%0.1f degree fahrenheit is equal to %0.1f degree celsius\" %(fahrenheit,celsius))"
   ]
  },
  {
   "cell_type": "code",
   "execution_count": null,
   "metadata": {},
   "outputs": [],
   "source": []
  }
 ],
 "metadata": {
  "kernelspec": {
   "display_name": "Python 3",
   "language": "python",
   "name": "python3"
  },
  "language_info": {
   "codemirror_mode": {
    "name": "ipython",
    "version": 3
   },
   "file_extension": ".py",
   "mimetype": "text/x-python",
   "name": "python",
   "nbconvert_exporter": "python",
   "pygments_lexer": "ipython3",
   "version": "3.8.3"
  }
 },
 "nbformat": 4,
 "nbformat_minor": 4
}
