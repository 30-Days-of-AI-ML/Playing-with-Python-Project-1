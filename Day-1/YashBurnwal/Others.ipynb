{
  "nbformat": 4,
  "nbformat_minor": 0,
  "metadata": {
    "colab": {
      "name": "Others.ipynb",
      "provenance": [],
      "collapsed_sections": []
    },
    "kernelspec": {
      "name": "python3",
      "display_name": "Python 3"
    }
  },
  "cells": [
    {
      "cell_type": "code",
      "metadata": {
        "id": "o7GG7jP7LZL5",
        "outputId": "0e944f0d-fcb4-44dd-de32-693594e5eae0",
        "colab": {
          "base_uri": "https://localhost:8080/",
          "height": 50
        }
      },
      "source": [
        "#Temperature Conversion\n",
        "temp=input(\"Enter Temperature with postfix C or F :  \")\n",
        "l=int(len(temp))\n",
        "typeTemp=temp[l-1]\n",
        "if typeTemp.upper()==\"F\":\n",
        "  F = int(temp[0:l-1])\n",
        "  C = 5/9*(F-32)\n",
        "  print(\"Temp in Celcius is :: \", C)\n",
        "elif typeTemp.upper()==\"C\":\n",
        "  C = int(temp[0:l-1])\n",
        "  F = 9/5*C + 32\n",
        "  print(\"Temp in Farenheit is :: \", F)\n",
        "else:\n",
        "  print(\"Format error\")"
      ],
      "execution_count": 4,
      "outputs": [
        {
          "output_type": "stream",
          "text": [
            "Enter Temperature with postfix C or F :  25c\n",
            "Temp in Farenheit is ::  77.0\n"
          ],
          "name": "stdout"
        }
      ]
    },
    {
      "cell_type": "code",
      "metadata": {
        "id": "RFE0GGDYOSJz",
        "outputId": "1a5c3241-7abf-49ce-c51a-630b96d130a6",
        "colab": {
          "base_uri": "https://localhost:8080/",
          "height": 67
        }
      },
      "source": [
        "#Integrals\n",
        "'''\n",
        "1.) xlog(x)\n",
        "2.) x^2\n",
        "3.) tan(sin(x))\n",
        "'''\n",
        "#!pip install sympy\n",
        "import sympy as sy\n",
        "x = sy.symbols('x')\n",
        "exp1 = x * sy.log(x)\n",
        "out1 = sy.integrate(exp1, x)\n",
        "exp2 = x ** 2  \n",
        "out2 = sy.integrate(exp2, x)\n",
        "y=sy.sin(x)  \n",
        "exp3 = sy.tan(y)\n",
        "out3 = sy.integrate(exp3, x)\n",
        "print(\"integrate of \", exp1, \" = \", out1)\n",
        "print(\"integrate of \", exp2, \" = \", out2)\n",
        "print(\"integrate of \", exp3, \" = \", out3)\n"
      ],
      "execution_count": 5,
      "outputs": [
        {
          "output_type": "stream",
          "text": [
            "integrate of  x*log(x)  =  x**2*log(x)/2 - x**2/4\n",
            "integrate of  x**2  =  x**3/3\n",
            "integrate of  tan(sin(x))  =  Integral(tan(sin(x)), x)\n"
          ],
          "name": "stdout"
        }
      ]
    }
  ]
}