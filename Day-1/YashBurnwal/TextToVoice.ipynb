{
  "nbformat": 4,
  "nbformat_minor": 0,
  "metadata": {
    "colab": {
      "name": "TextToVoice.ipynb",
      "provenance": [],
      "collapsed_sections": []
    },
    "kernelspec": {
      "name": "python3",
      "display_name": "Python 3"
    }
  },
  "cells": [
    {
      "cell_type": "code",
      "metadata": {
        "id": "QpThNhs3_n4a"
      },
      "source": [
        "#!pip install gTTS\n",
        "#!pip install playsound\n",
        "from gtts import gTTS\n",
        "from playsound import playsound\n",
        "text_val=\"Hello World,this is your Google speaking\"\n",
        "language=\"en\"\n",
        "obj =gTTS(text=text_val, lang = language, slow=False)\n",
        "obj.save(\"exam.mp3\")\n",
        "#playsound(\"exam.mp3\")\n"
      ],
      "execution_count": 13,
      "outputs": []
    }
  ]
}